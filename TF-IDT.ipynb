{
 "cells": [
  {
   "cell_type": "markdown",
   "id": "dd4e1681",
   "metadata": {},
   "source": [
    "# base import"
   ]
  },
  {
   "cell_type": "code",
   "execution_count": 15,
   "id": "3183e67c",
   "metadata": {},
   "outputs": [],
   "source": [
    "import json\n",
    "import pandas as pd\n",
    "import numpy as np\n",
    "import os\n"
   ]
  },
  {
   "cell_type": "markdown",
   "id": "f2f18a7a",
   "metadata": {},
   "source": [
    "# Load train.json"
   ]
  },
  {
   "cell_type": "code",
   "execution_count": 16,
   "id": "d52aa71b",
   "metadata": {},
   "outputs": [
    {
     "name": "stdout",
     "output_type": "stream",
     "text": [
      "                                             reviews  sentiments\n",
      "0  I bought this belt for my daughter in-law for ...           1\n",
      "1  The size was perfect and so was the color.  It...           1\n",
      "2  Fits and feels good, esp. for doing a swim rac...           1\n",
      "3  These socks are absolutely the best. I take pi...           1\n",
      "4  Thank you so much for the speedy delivery they...           1\n"
     ]
    }
   ],
   "source": [
    "# 读取训练集\n",
    "with open(\"train.json\", \"r\", encoding=\"utf-8\") as f:\n",
    "    train_data = json.load(f)\n",
    "\n",
    "# 转换为 DataFrame\n",
    "df = pd.DataFrame(train_data)\n",
    "print(df.head())\n"
   ]
  },
  {
   "cell_type": "markdown",
   "id": "fc30b609",
   "metadata": {},
   "source": [
    "# ML import"
   ]
  },
  {
   "cell_type": "code",
   "execution_count": 17,
   "id": "e8d48a13",
   "metadata": {},
   "outputs": [],
   "source": [
    "from sklearn.model_selection import train_test_split\n",
    "from sklearn.feature_extraction.text import TfidfVectorizer\n",
    "from sklearn.linear_model import LogisticRegression\n",
    "from sklearn.metrics import classification_report, confusion_matrix"
   ]
  },
  {
   "cell_type": "code",
   "execution_count": 18,
   "id": "adcc8863",
   "metadata": {},
   "outputs": [
    {
     "name": "stdout",
     "output_type": "stream",
     "text": [
      "train size: 5920\n",
      "validation size: 1481\n"
     ]
    }
   ],
   "source": [
    "# split the dataset\n",
    "texts = df[\"reviews\"].values\n",
    "labels = df[\"sentiments\"].values\n",
    "\n",
    "# stratified\n",
    "X_train, X_val, y_train, y_val = train_test_split(\n",
    "    texts, labels, test_size=0.2, random_state=42, stratify=labels\n",
    ")\n",
    "\n",
    "print(\"train size:\", len(X_train))\n",
    "print(\"validation size:\", len(X_val))\n"
   ]
  },
  {
   "cell_type": "markdown",
   "id": "a0cf016a",
   "metadata": {},
   "source": [
    "# TF-IDT+LogisticRegression"
   ]
  },
  {
   "cell_type": "code",
   "execution_count": 19,
   "id": "1e68a91d",
   "metadata": {},
   "outputs": [],
   "source": [
    "# convert text to TF-IDF features\n",
    "vectorizer = TfidfVectorizer(max_features=5000, ngram_range=(1,2))\n",
    "X_train_tfidf = vectorizer.fit_transform(X_train)\n",
    "X_val_tfidf   = vectorizer.transform(X_val)\n"
   ]
  },
  {
   "cell_type": "code",
   "execution_count": 20,
   "id": "2f36a3a0",
   "metadata": {},
   "outputs": [
    {
     "name": "stdout",
     "output_type": "stream",
     "text": [
      "              precision    recall  f1-score   support\n",
      "\n",
      "           0       0.93      0.38      0.54       217\n",
      "           1       0.90      1.00      0.95      1264\n",
      "\n",
      "    accuracy                           0.90      1481\n",
      "   macro avg       0.92      0.69      0.74      1481\n",
      "weighted avg       0.91      0.90      0.89      1481\n",
      "\n"
     ]
    }
   ],
   "source": [
    "clf = LogisticRegression(max_iter=1000)\n",
    "clf.fit(X_train_tfidf, y_train)\n",
    "\n",
    "# predict and evaluate\n",
    "y_pred = clf.predict(X_val_tfidf)\n",
    "\n",
    "print(classification_report(y_val, y_pred))\n"
   ]
  },
  {
   "cell_type": "markdown",
   "id": "70f16717",
   "metadata": {},
   "source": [
    "# test"
   ]
  },
  {
   "cell_type": "code",
   "execution_count": 21,
   "id": "c63c781f",
   "metadata": {},
   "outputs": [
    {
     "name": "stdout",
     "output_type": "stream",
     "text": [
      "✅ submission.csv has been created.\n"
     ]
    }
   ],
   "source": [
    "# load test set\n",
    "with open(\"test.json\", \"r\", encoding=\"utf-8\") as f:\n",
    "    test_data = json.load(f)\n",
    "\n",
    "df_test = pd.DataFrame(test_data)\n",
    "X_test = df_test[\"reviews\"].values\n",
    "\n",
    "# convert to TF-IDF features\n",
    "X_test_tfidf = vectorizer.transform(X_test)\n",
    "\n",
    "# predict\n",
    "test_pred = clf.predict(X_test_tfidf)\n",
    "\n",
    "# save submission.csv\n",
    "submission = pd.DataFrame({\n",
    "    \"id\": range(len(test_pred)),\n",
    "    \"sentiments\": test_pred\n",
    "})\n",
    "submission.to_csv(\"submission.csv\", index=False)\n",
    "print(\"✅ submission.csv has been created.\")\n"
   ]
  }
 ],
 "metadata": {
  "kernelspec": {
   "display_name": "6483",
   "language": "python",
   "name": "python3"
  },
  "language_info": {
   "codemirror_mode": {
    "name": "ipython",
    "version": 3
   },
   "file_extension": ".py",
   "mimetype": "text/x-python",
   "name": "python",
   "nbconvert_exporter": "python",
   "pygments_lexer": "ipython3",
   "version": "3.10.18"
  }
 },
 "nbformat": 4,
 "nbformat_minor": 5
}
